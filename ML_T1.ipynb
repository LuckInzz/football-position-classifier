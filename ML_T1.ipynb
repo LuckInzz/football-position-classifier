{
  "cells": [
    {
      "cell_type": "markdown",
      "metadata": {
        "id": "view-in-github",
        "colab_type": "text"
      },
      "source": [
        "<a href=\"https://colab.research.google.com/github/LuckInzz/football-position-classifier/blob/main/ML_T1.ipynb\" target=\"_parent\"><img src=\"https://colab.research.google.com/assets/colab-badge.svg\" alt=\"Open In Colab\"/></a>"
      ]
    },
    {
      "cell_type": "code",
      "execution_count": null,
      "metadata": {
        "id": "Rv6Zr_RZnfk4"
      },
      "outputs": [],
      "source": [
        "import kagglehub\n",
        "from kagglehub import KaggleDatasetAdapter\n",
        "from sklearn.model_selection import train_test_split\n",
        "from sklearn.preprocessing import StandardScaler\n",
        "from sklearn.metrics import classification_report, accuracy_score\n",
        "from sklearn.model_selection import GridSearchCV\n",
        "import pandas as pd\n",
        "import shap"
      ]
    },
    {
      "cell_type": "markdown",
      "metadata": {
        "id": "bMAyXhymZNYR"
      },
      "source": [
        "# **Carregando dataset**"
      ]
    },
    {
      "cell_type": "code",
      "execution_count": null,
      "metadata": {
        "id": "QMMulxKNV3RX"
      },
      "outputs": [],
      "source": [
        "# Set the path to the file you'd like to load\n",
        "file_path = \"players_data-2024_2025.csv\"\n",
        "\n",
        "# Load the latest version\n",
        "df = kagglehub.dataset_load(\n",
        "  KaggleDatasetAdapter.PANDAS,\n",
        "  \"hubertsidorowicz/football-players-stats-2024-2025\",\n",
        "  file_path,\n",
        "  # Provide any additional arguments like\n",
        "  # sql_query or pandas_kwargs. See the\n",
        "  # documenation for more information:\n",
        "  # https://github.com/Kaggle/kagglehub/blob/main/README.md#kaggledatasetadapterpandas\n",
        ")\n",
        "\n",
        "print(\"First 5 records:\", df.head())"
      ]
    },
    {
      "cell_type": "code",
      "execution_count": null,
      "metadata": {
        "id": "1gH6Qpvbaykw"
      },
      "outputs": [],
      "source": [
        "# Exibir informações gerais sobre os dados\n",
        "print(\"\\nInformações do Conjunto de Treino:\")\n",
        "df.info()\n",
        "\n",
        "# Verificar a distribuição das classes (balanceamento)\n",
        "print(\"\\nDistribuição das Classes:\")\n",
        "print(df['Pos'].value_counts())"
      ]
    },
    {
      "cell_type": "markdown",
      "metadata": {
        "id": "SxwfO5yc1ZQL"
      },
      "source": [
        "#**Limpando o dataset**"
      ]
    },
    {
      "cell_type": "code",
      "execution_count": null,
      "metadata": {
        "id": "j1EyIJ1T1Y4-"
      },
      "outputs": [],
      "source": [
        "#Numero de jogadores antes da limpeza\n",
        "print(f\"Numero de jogadores antes da limpeza: {len(df)}\")\n",
        "\n",
        "df_final= df.copy()\n",
        "\n",
        "#Removendo os jogadores com a posição GOL\n",
        "df_final = df_final[df_final['Pos'] != 'GK'].copy()\n",
        "\n",
        "#Removendo as posições secundarias\n",
        "df_final['Pos'] = df_final['Pos'].str.split(',').str[0]\n",
        "\n",
        "#Removendo jogadores que tiveram minutagem baixa\n",
        "df_final = df_final[df_final['90s'] >= 10].copy()\n",
        "\n",
        "print(df_final['Pos'].value_counts())\n",
        "print(f\"Numero de jogadores depois da limpeza: {len(df_final)}\")"
      ]
    },
    {
      "cell_type": "markdown",
      "metadata": {
        "id": "TX-v5w2m27ua"
      },
      "source": [
        "# **Escolhendo as features**"
      ]
    },
    {
      "cell_type": "code",
      "execution_count": null,
      "metadata": {
        "id": "pUNPshns5HyS"
      },
      "outputs": [],
      "source": [
        "colunas_selecionadas = [\n",
        "    '90s',    #Minutos dividos por 90\n",
        "    'Gls',    #gols (FW)\n",
        "    'xG',     #Gols esperados(FW)\n",
        "    'Ast',    #assistencias (FW, MF)\n",
        "    'xAG',    #Assistencias esperadas (FW, MF)\n",
        "    'Tkl',    #Botes(DF, MF)\n",
        "    'TklW',   #Botes certos(DF, MF)\n",
        "    'Blocks', #Bloqueios(DF, MF)\n",
        "    'Int',    #Interceptações(DF, MF)\n",
        "    'Clr',    #Clearences(DF)\n",
        "    'Recov',  #Bolas recuperadas(MF)\n",
        "    'Err',    #Erros que levaram ao gol adversario(DF, MF)\n",
        "    'PKcon',  #Penaltis cometidos(DF)\n",
        "    #'CrdY',   #Cartões Amarelos(DF, MF)\n",
        "    #'CrdR',   #Cartões Vermelhos(DF, MF)\n",
        "    'PrgP',   #Passes progressivos(MF, DF)\n",
        "    'KP',     #Passes chaves(passes que levaram ao um chute)\n",
        "    'Att',    #Passes tentados ou dribles tentados?\n",
        "    'Cmp',    #Passes completados(DF, MF)\n",
        "    'Cmp%',   #Porcentagem de passes completados(DF, MF)\n",
        "    'PPA',    #Passes em direção a area do penalti\n",
        "    'Live',   #Passes com bola rolando(MF, DF)\n",
        "    'SCA',      #Shot-Creation Actions(MF, FW)\n",
        "    'Touches',  #Toques na bola(MF, DF)\n",
        "    'Carries',  #Total ball carries(DF, MF)\n",
        "    'PrgC',     #Progressive Carries(FW, MF)\n",
        "    'CPA',      #Carries into penalty area(FW, MF)\n",
        "    'TB',       #Bolas lançadas por tras de defensores(MF, FW)\n",
        "    'Rec',    #Numero de vezes que o jogador recebeu a bola(MF, DF)\n",
        "    'PrgR',    #Numero de vezes que o jogador recebeu um passe progressivo(FW, MF)\n",
        "    'Mis',    #Miscontrols(FW, MF)\n",
        "    'Dis',    #Times dispossessed(FW, MF)\n",
        "    'Succ',   #Dribles completados(FW, MF)\n",
        "    'Tkld',    #Numero de vezes que foi tentado ser desarmado durante uma tentativa de drible(FW)\n",
        "    'Sh',     #Chutes totais(FW, MF)\n",
        "    'SoT',    #Chutes ao gol(FW, MF)\n",
        "    'PrgDist',  #Distancia que o jogador levou a bola em direção ao gol(DF, MF)\n",
        "    'TotDist',  #Distancia que o jogador levou a bola em qualquer direção(MF, DF)\n",
        "    'Fls',    #Faltas cometidas\n",
        "    'Fld',    #Faltas sofridas(MF, FW)\n",
        "    'Off',    #Impedimentos(FW)\n",
        "    'Crs',    #Cruzamentos\n",
        "    'TI',     #Laterais(DF)\n",
        "    #'OG',     #Gols contras\n",
        "    'Att Pen',  #Toques dentro da area do penalti adversaria(FW)\n",
        "    'Def Pen',  #Toques dentro da area do penalti aliada(DF)\n",
        "    'Def 3rd',  #Touches in defensive 1/3 (DF)\n",
        "    'Mid 3rd',  #Touches in mid 1/3 (MF, DF)\n",
        "    'Att 3rd',  #Touches in attacking 1/3 (FW, MF)\n",
        "    'Pos'     #Posição(atributo alvo)\n",
        "]\n",
        "\n",
        "df_final = df_final[colunas_selecionadas].copy()"
      ]
    },
    {
      "cell_type": "markdown",
      "metadata": {
        "id": "bbgoL9pC3GgB"
      },
      "source": [
        "# **Normalizar os dados em relação aos minutos jogados**"
      ]
    },
    {
      "cell_type": "code",
      "execution_count": null,
      "metadata": {
        "id": "ePWuS2hl3GNB"
      },
      "outputs": [],
      "source": [
        "stats_normalizar = [\n",
        "    coluna for coluna in colunas_selecionadas if coluna != '90s' and coluna != 'Pos'\n",
        "]\n",
        "\n",
        "for stat in stats_normalizar:\n",
        "    novo_nome_coluna = f'{stat}/90s'\n",
        "    df_final[novo_nome_coluna] = df_final[stat] / df_final['90s']\n",
        "\n",
        "colunas_manter =  ['Pos'] + [f'{stat}/90s' for stat in stats_normalizar]\n",
        "\n",
        "#Remover colunas não normalizadas\n",
        "df_final = df_final[colunas_manter].copy()\n",
        "#Printar todas as colunas\n",
        "print(df_final.columns)"
      ]
    },
    {
      "cell_type": "markdown",
      "metadata": {
        "id": "fKCghsc2zweg"
      },
      "source": [
        "# **Separação e divisão do dataset**"
      ]
    },
    {
      "cell_type": "code",
      "execution_count": null,
      "metadata": {
        "id": "f96wrc4wzwKU"
      },
      "outputs": [],
      "source": [
        "#Separar x e y\n",
        "\n",
        "X = df_final.drop('Pos', axis=1)\n",
        "y = df_final['Pos']\n",
        "\n",
        "#Dividir o dataset em treino e teste\n",
        "X_train, X_test, y_train, y_test = train_test_split(X, y, test_size=0.2, random_state=42, stratify=y)"
      ]
    },
    {
      "cell_type": "code",
      "execution_count": null,
      "metadata": {
        "id": "XdPF_0zXz49c"
      },
      "outputs": [],
      "source": [
        "scaler = StandardScaler()\n",
        "\n",
        "# Ajusta o scaler APENAS nos dados de treino e os transforma\n",
        "X_train_scaled = scaler.fit_transform(X_train)\n",
        "\n",
        "# APLICA a mesma transformação nos dados de teste\n",
        "X_test_scaled = scaler.transform(X_test)"
      ]
    },
    {
      "cell_type": "code",
      "execution_count": null,
      "metadata": {
        "id": "vlbr5R5n0D1u"
      },
      "outputs": [],
      "source": [
        "from sklearn.preprocessing import PowerTransformer\n",
        "\n",
        "# O método 'yeo-johnson' funciona para dados positivos e negativos.\n",
        "power_transformer = PowerTransformer(method='yeo-johnson', standardize=True)\n",
        "\n",
        "X_train_transformed = power_transformer.fit_transform(X_train)\n",
        "X_test_transformed = power_transformer.transform(X_test)"
      ]
    },
    {
      "cell_type": "markdown",
      "metadata": {
        "id": "EwyVOHvuydai"
      },
      "source": [
        "#**RFECV**"
      ]
    },
    {
      "cell_type": "code",
      "execution_count": null,
      "metadata": {
        "id": "LY1RfmDtydD4"
      },
      "outputs": [],
      "source": [
        "from sklearn.feature_selection import RFECV\n",
        "from sklearn.model_selection import StratifiedKFold\n",
        "import matplotlib.pyplot as plt\n",
        "from sklearn.tree import DecisionTreeClassifier\n",
        "\n",
        "estimator = DecisionTreeClassifier(max_depth=5, random_state=42)\n",
        "\n",
        "selector = RFECV(\n",
        "    estimator=estimator,\n",
        "    step=1,\n",
        "    cv=StratifiedKFold(5),\n",
        "    scoring='balanced_accuracy',\n",
        "    min_features_to_select=5,\n",
        ")\n",
        "\n",
        "print(\"Iniciando a seleção de features com RFECV...\")\n",
        "selector.fit(X_train_transformed, y_train)\n",
        "print(\"Seleção finalizada.\")\n",
        "\n",
        "print(f\"Número ideal de features encontrado: {selector.n_features_}\")\n",
        "\n",
        "X_train_final = selector.transform(X_train_transformed)\n",
        "X_test_final = selector.transform(X_test_transformed)\n",
        "\n",
        "plt.figure(figsize=(10, 6))\n",
        "plt.xlabel(\"Número de features selecionadas\")\n",
        "plt.ylabel(\"Score da Validação Cruzada (Balanced Accuracy)\")\n",
        "plt.plot(range(selector.min_features_to_select,\n",
        "               selector.min_features_to_select + len(selector.cv_results_['mean_test_score'])),\n",
        "         selector.cv_results_['mean_test_score'])\n",
        "plt.title(\"Desempenho do RFECV por número de features\")\n",
        "plt.grid()\n",
        "plt.show()\n",
        "\n",
        "print(f\"Número ideal de features encontrado: {selector.n_features_}\")\n",
        "print(f\"Features selecionadas: {list(X_train.columns[selector.support_])}\")\n",
        "\n",
        "selected_features = X_train.columns[selector.support_]"
      ]
    },
    {
      "cell_type": "markdown",
      "metadata": {
        "id": "q7fe2-Uky8PK"
      },
      "source": [
        "# **Modelo 1:KNN**"
      ]
    },
    {
      "cell_type": "code",
      "execution_count": null,
      "metadata": {
        "id": "dDxO61S2zAGO"
      },
      "outputs": [],
      "source": [
        "from sklearn.neighbors import KNeighborsClassifier\n",
        "\n",
        "param_grid_knn = {\n",
        "    # Número de vizinhos a considerar\n",
        "    'n_neighbors': range(15, 30),\n",
        "\n",
        "    # Como os votos dos vizinhos são ponderados:\n",
        "    # 'uniform': todos os vizinhos têm o mesmo peso.\n",
        "    # 'distance': vizinhos mais próximos têm mais influência.\n",
        "    'weights': ['uniform', 'distance'],\n",
        "\n",
        "    'p': [1, 2] # p=1 (Manhattan), p=2 (Euclidiana)\n",
        "}\n",
        "\n",
        "\n",
        "grid_knn = GridSearchCV(\n",
        "    estimator=KNeighborsClassifier(),\n",
        "    param_grid=param_grid_knn,\n",
        "    cv=10,\n",
        "    scoring='accuracy',\n",
        "    n_jobs=-1\n",
        ")\n",
        "\n",
        "print(\"Iniciando GridSearchCV para o KNN...\")\n",
        "grid_knn.fit(X_train_final, y_train)\n",
        "\n",
        "print(\"\\n--- Resultados do GridSearchCV para KNN ---\")\n",
        "print(f\"Melhores parâmetros encontrados: {grid_knn.best_params_}\")\n",
        "print(f\"Melhor acurácia (validação cruzada): {grid_knn.best_score_:.4f}\")\n",
        "\n",
        "print(\"\\n--- Avaliação final do melhor modelo KNN no conjunto de teste ---\")\n",
        "best_knn = grid_knn.best_estimator_\n",
        "y_pred_best_knn = best_knn.predict(X_test_final)\n",
        "print(classification_report(y_test, y_pred_best_knn))"
      ]
    },
    {
      "cell_type": "code",
      "execution_count": null,
      "metadata": {
        "id": "lCWnsjtiHZzH"
      },
      "outputs": [],
      "source": [
        "import shap\n",
        "\n",
        "selected_features = X_train.columns[selector.support_]\n",
        "\n",
        "# 1. Crie um \"explainer\". Como o KNN não tem um explainer específico no SHAP,\n",
        "# usamos o KernelExplainer, que funciona para qualquer modelo.\n",
        "# Usamos um subconjunto dos dados de treino para criar o background (resumo dos dados).\n",
        "explainer = shap.KernelExplainer(best_knn.predict_proba, shap.sample(X_train_final, 100))\n",
        "\n",
        "# 2. Calcule os valores SHAP para os dados de teste\n",
        "shap_values = explainer.shap_values(X_test_final)\n",
        "\n",
        "# 3. Crie um plot de resumo (summary plot)\n",
        "# Este é o plot mais importante. Ele mostra a importância de cada feature e\n",
        "# o impacto dela nas previsões.\n",
        "print(\"Gerando SHAP Summary Plot para o KNN...\")\n",
        "shap.summary_plot(shap_values, X_test_final, feature_names=selected_features, class_names=best_knn.classes_, plot_type=\"bar\")"
      ]
    },
    {
      "cell_type": "markdown",
      "metadata": {
        "id": "lD8om-Nq0CWn"
      },
      "source": [
        "# **Modelo 2: Árvore de Decisão**"
      ]
    },
    {
      "cell_type": "code",
      "execution_count": null,
      "metadata": {
        "id": "dcRhyJsX0IpD"
      },
      "outputs": [],
      "source": [
        "from sklearn.tree import DecisionTreeClassifier\n",
        "\n",
        "param_grid_tree = {\n",
        "    # Profundidade máxima da árvore\n",
        "    'max_depth': [5, 10, 15],\n",
        "\n",
        "    # Critério para medir a qualidade da divisão\n",
        "    'criterion': ['gini', 'entropy'],\n",
        "\n",
        "    # Número mínimo de amostras necessárias em um nó folha\n",
        "    'min_samples_leaf': [2, 5, 8],\n",
        "\n",
        "    # Número mínimo de amostras necessárias para dividir um nó\n",
        "    'min_samples_split': [2, 5, 8],\n",
        "\n",
        "    # Número de features a serem consideradas ao procurar a melhor divisão\n",
        "    'max_features': ['sqrt', 'log2', None]\n",
        "}\n",
        "\n",
        "grid_tree = GridSearchCV(\n",
        "    estimator=DecisionTreeClassifier(random_state=42),\n",
        "    param_grid=param_grid_tree,\n",
        "    cv=10,\n",
        "    scoring='accuracy',\n",
        "    n_jobs=-1\n",
        ")\n",
        "\n",
        "print(\"Iniciando GridSearchCV para a Árvore de Decisão...\")\n",
        "grid_tree.fit(X_train_final, y_train)\n",
        "\n",
        "print(\"\\n--- Resultados do GridSearchCV para Árvore de Decisão ---\")\n",
        "print(f\"Melhores parâmetros encontrados: {grid_tree.best_params_}\")\n",
        "print(f\"Melhor acurácia (validação cruzada): {grid_tree.best_score_:.4f}\")\n",
        "\n",
        "print(\"\\n--- Avaliação final da melhor Árvore de Decisão no conjunto de teste ---\")\n",
        "best_tree = grid_tree.best_estimator_\n",
        "y_pred_best_tree = best_tree.predict(X_test_final)\n",
        "print(classification_report(y_test, y_pred_best_tree))"
      ]
    },
    {
      "cell_type": "code",
      "execution_count": null,
      "metadata": {
        "id": "2ONgHoqcBDZt"
      },
      "outputs": [],
      "source": [
        "import pandas as pd\n",
        "import matplotlib.pyplot as plt\n",
        "import seaborn as sns\n",
        "\n",
        "selected_features = X_train.columns[selector.support_]\n",
        "\n",
        "# Extrair a importância\n",
        "importances = best_tree.feature_importances_\n",
        "\n",
        "# Criar um DataFrame para visualização\n",
        "feature_importance_df = pd.DataFrame({\n",
        "    'Feature': selected_features,\n",
        "    'Importance': importances\n",
        "}).sort_values(by='Importance', ascending=False)\n",
        "\n",
        "print(\"Importância das Features - Árvore de Decisão:\")\n",
        "print(feature_importance_df)\n",
        "\n",
        "# Visualizar\n",
        "plt.figure(figsize=(12, 8))\n",
        "sns.barplot(x='Importance', y='Feature', data=feature_importance_df)\n",
        "plt.title('Importância das Features segundo a Árvore de Decisão')\n",
        "plt.show()"
      ]
    },
    {
      "cell_type": "markdown",
      "metadata": {
        "id": "SWnuoB6GFij8"
      },
      "source": [
        "# **Visualizar a árvore**"
      ]
    },
    {
      "cell_type": "code",
      "execution_count": null,
      "metadata": {
        "id": "fvw_WN-JFacj"
      },
      "outputs": [],
      "source": [
        "from sklearn.tree import plot_tree\n",
        "\n",
        "plt.figure(figsize=(20,10))\n",
        "# Plotando com profundidade máxima de 3 para ser legível\n",
        "plot_tree(best_tree, feature_names=selected_features, class_names=best_tree.classes_, filled=True, max_depth=3, fontsize=10)\n",
        "plt.title(\"Visualização dos Primeiros Níveis da Árvore de Decisão\")\n",
        "plt.show()"
      ]
    },
    {
      "cell_type": "markdown",
      "metadata": {
        "id": "XOL_7XTv2SBt"
      },
      "source": [
        "# **Modelo 3: Naive Bayes**"
      ]
    },
    {
      "cell_type": "code",
      "execution_count": null,
      "metadata": {
        "id": "4KjkoKBS2RxP"
      },
      "outputs": [],
      "source": [
        "from sklearn.naive_bayes import GaussianNB\n",
        "\n",
        "# 1. Inicialização do modelo\n",
        "naive_bayes = GaussianNB()\n",
        "\n",
        "# 2. Treinamento do modelo\n",
        "print(\"Treinando Naïve Bayes...\")\n",
        "naive_bayes.fit(X_train_final, y_train)\n",
        "\n",
        "# 3. Previsões\n",
        "y_pred_nb = naive_bayes.predict(X_test_final)\n",
        "\n",
        "# 4. Avaliação\n",
        "print(\"\\n--- Resultados para o Naïve Bayes ---\")\n",
        "print(f\"Acurácia: {accuracy_score(y_test, y_pred_nb):.4f}\")\n",
        "print(classification_report(y_test, y_pred_nb))"
      ]
    },
    {
      "cell_type": "code",
      "execution_count": null,
      "metadata": {
        "id": "Q6GmqdBoFuYE"
      },
      "outputs": [],
      "source": [
        "# Médias de cada feature para cada classe\n",
        "means_df = pd.DataFrame(naive_bayes.theta_, columns=selected_features, index=naive_bayes.classes_)\n",
        "\n",
        "# Variâncias de cada feature para cada classe\n",
        "variances_df = pd.DataFrame(naive_bayes.var_, columns=selected_features, index=naive_bayes.classes_)\n",
        "\n",
        "print(\"--- Médias das Features por Posição (Naïve Bayes) ---\")\n",
        "# Usando um heatmap para facilitar a visualização\n",
        "plt.figure(figsize=(18, 5))\n",
        "sns.heatmap(means_df, annot=True, cmap=\"viridis\", fmt=\".2f\")\n",
        "plt.title(\"Média das Features por Posição (Probabilidades Condicionais do Naive Bayes)\")\n",
        "plt.show()"
      ]
    },
    {
      "cell_type": "markdown",
      "source": [
        "# Comparação de Métricas dos Modelos:"
      ],
      "metadata": {
        "id": "T8gMQZKWtdln"
      }
    },
    {
      "cell_type": "code",
      "source": [
        "import matplotlib.pyplot as plt\n",
        "import pandas as pd\n",
        "import seaborn as sns\n",
        "import matplotlib as mpl\n",
        "\n",
        "# Definir fonte global\n",
        "mpl.rcParams['font.family'] = 'Calibri'  # altere para a fonte que preferir\n",
        "\n",
        "# Dados das métricas\n",
        "metrics = {\n",
        "    \"KNN\": {\n",
        "        \"Accuracy\": 0.94,\n",
        "        \"Precision\": 0.93,\n",
        "        \"Recall\": 0.93,\n",
        "        \"F1-score\": 0.93\n",
        "    },\n",
        "    \"Decision Tree\": {\n",
        "        \"Accuracy\": 0.90,\n",
        "        \"Precision\": 0.90,\n",
        "        \"Recall\": 0.89,\n",
        "        \"F1-score\": 0.89\n",
        "    },\n",
        "    \"Naïve Bayes\": {\n",
        "        \"Accuracy\": 0.88,\n",
        "        \"Precision\": 0.87,\n",
        "        \"Recall\": 0.88,\n",
        "        \"F1-score\": 0.87\n",
        "    }\n",
        "}\n",
        "\n",
        "df_metrics = pd.DataFrame(metrics).T.reset_index().rename(columns={\"index\": \"Modelo\"})\n",
        "df_melt = df_metrics.melt(id_vars=\"Modelo\", var_name=\"Métrica\", value_name=\"Valor\")\n",
        "\n",
        "sns.set_style(\"whitegrid\")\n",
        "plt.figure(figsize=(9,5))\n",
        "\n",
        "# Paleta personalizada: verde, azul, amarelo\n",
        "palette = [\"#2ecc71\", \"#3498db\", \"#f1c40f\"]\n",
        "\n",
        "sns.barplot(\n",
        "    data=df_melt,\n",
        "    x=\"Valor\", y=\"Métrica\", hue=\"Modelo\",\n",
        "    palette=palette\n",
        ")\n",
        "\n",
        "plt.title(\"Comparação de Desempenho dos Modelos\", fontsize=12, weight=\"bold\")\n",
        "plt.xlabel(\"Valor\", fontsize=11)\n",
        "plt.ylabel(\"Métrica\", fontsize=11)\n",
        "plt.xlim(0.8, 1.0)\n",
        "plt.legend(title=\"Modelo\", bbox_to_anchor=(1.05, 1), loc=\"upper left\")\n",
        "plt.tight_layout()\n",
        "plt.show()\n"
      ],
      "metadata": {
        "id": "NE4N1k-Ftzr9"
      },
      "execution_count": null,
      "outputs": []
    },
    {
      "cell_type": "markdown",
      "source": [
        "# Comparação das Precisões por Posição:"
      ],
      "metadata": {
        "id": "i3XaohqeuCfG"
      }
    },
    {
      "cell_type": "code",
      "source": [
        "import matplotlib.pyplot as plt\n",
        "import numpy as np\n",
        "\n",
        "# Dados extraídos dos relatórios\n",
        "precisions = {\n",
        "    \"Naïve Bayes\": {\"DF\": 0.92, \"FW\": 0.80, \"MF\": 0.90},\n",
        "    \"Decision Tree\": {\"DF\": 0.97, \"FW\": 0.89, \"MF\": 0.83},\n",
        "    \"KNN\": {\"DF\": 0.98, \"FW\": 0.88, \"MF\": 0.94}\n",
        "}\n",
        "\n",
        "# Preparar para gráfico\n",
        "positions = list(precisions[\"Naïve Bayes\"].keys())\n",
        "models = list(precisions.keys())\n",
        "\n",
        "# Cores (verde, amarelo, azul)\n",
        "colors = [\"#009739\", \"#FFCC29\", \"#002776\"]\n",
        "\n",
        "x = np.arange(len(positions))  # posições no eixo X\n",
        "width = 0.25  # largura das barras\n",
        "\n",
        "fig, ax = plt.subplots(figsize=(10,6))\n",
        "\n",
        "# Criar barras para cada modelo\n",
        "for i, model in enumerate(models):\n",
        "    values = list(precisions[model].values())\n",
        "    ax.bar(x + i*width, values, width, label=model, color=colors[i])\n",
        "\n",
        "# Personalização\n",
        "ax.set_ylabel(\"Precisão\", fontsize=11, fontweight=\"bold\")\n",
        "ax.set_xlabel(\"Posições\", fontsize=11, fontweight=\"bold\")\n",
        "ax.set_title(\"Comparação da Precisão por Posição e Modelo\", fontsize=14, fontweight=\"bold\")\n",
        "ax.set_xticks(x + width)\n",
        "ax.set_xticklabels(positions, fontsize=11)\n",
        "ax.set_ylim(0.75, 1.05)  # zoom para destacar diferenças\n",
        "ax.set_yticks(np.arange(0.75, 1.05, 0.05))\n",
        "\n",
        "# Legenda\n",
        "ax.legend(title=\"Modelos\", fontsize=10, title_fontsize=11)\n",
        "\n",
        "# Mostrar valores nas barras\n",
        "for i, model in enumerate(models):\n",
        "    values = list(precisions[model].values())\n",
        "    for j, val in enumerate(values):\n",
        "        ax.text(x[j] + i*width, val + 0.01, f\"{val:.2f}\", ha=\"center\", fontsize=9, fontweight=\"bold\")\n",
        "\n",
        "plt.tight_layout()\n",
        "plt.show()\n"
      ],
      "metadata": {
        "id": "ugm9lCa8uJyb"
      },
      "execution_count": null,
      "outputs": []
    }
  ],
  "metadata": {
    "colab": {
      "provenance": [],
      "toc_visible": true,
      "include_colab_link": true
    },
    "kernelspec": {
      "display_name": "Python 3",
      "name": "python3"
    },
    "language_info": {
      "name": "python"
    }
  },
  "nbformat": 4,
  "nbformat_minor": 0
}